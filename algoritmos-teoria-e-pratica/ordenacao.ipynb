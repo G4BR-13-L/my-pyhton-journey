{
 "cells": [
  {
   "cell_type": "markdown",
   "metadata": {},
   "source": [
    "# Algoritmos de ordenação "
   ]
  },
  {
   "cell_type": "markdown",
   "metadata": {},
   "source": [
    "## 1. Ordenação por inserção ( insert sort )\n",
    "- Entrada: Array desordenado\n",
    "- Saída: Array ordenado"
   ]
  },
  {
   "cell_type": "markdown",
   "metadata": {},
   "source": [
    "# Exercício \n",
    "\n",
    "2.1-1 Usando a Figura 2.2 como modelo, ilustre a operação de Insertion-Sort no arranjo A = 〈31, 41, 59, 26, 41,\n",
    "58〉.   "
   ]
  },
  {
   "cell_type": "code",
   "execution_count": null,
   "metadata": {},
   "outputs": [],
   "source": [
    "list = [10, 1, 5, 0, 6, 8, 7, 3, 11, 4]\n",
    "\n",
    "i = 1\n",
    "while i < 10:\n",
    "    element = list[i]\n",
    "    j = i\n",
    "    i = i + 1\n",
    "\n",
    "    while j > 0 and list[j - 1] < element:\n",
    "        list[j] = list[j - 1]\n",
    "        j = j - 1\n",
    "\n",
    "    list[j] = element\n",
    "\n",
    "i = 0\n",
    "while i < 10:\n",
    "    print(list[i])\n",
    "    i = i + 1\n"
   ]
  },
  {
   "cell_type": "markdown",
   "metadata": {},
   "source": [
    "# 2.1-2 Reescreva o procedimento Insertion-Sort para ordenar em ordem não crescente, em vez da ordem não decrescente.\n"
   ]
  },
  {
   "cell_type": "code",
   "execution_count": null,
   "metadata": {},
   "outputs": [],
   "source": [
    "list = [10, 1, 5, 0, 6, 8, 7, 3, 11, 4]\n",
    "\n",
    "i = 1\n",
    "while i < 10:\n",
    "    element = list[i]\n",
    "    j = i\n",
    "    i = i + 1\n",
    "\n",
    "    while j > 0 and list[j - 1] < element:\n",
    "        list[j] = list[j - 1]\n",
    "        j = j - 1\n",
    "\n",
    "    list[j] = element\n",
    "\n",
    "i = 0\n",
    "while i < 10:\n",
    "    print(list[i])\n",
    "    i = i + 1\n"
   ]
  },
  {
   "cell_type": "markdown",
   "metadata": {},
   "source": [
    "## 2.1-3 Considere o problema de busca:\n",
    "- Entrada: Uma sequência de n números A = 〈 a1, a2, ..., an〉 e um valor v.\n",
    "- Saída: Um índice i tal que v = A[i] ou o valor especial NIL, se v não aparecer em A-\n",
    "- Escreva o pseudocódigo para busca linear, que faça a varredura da sequência, procurando por v. Usando\n",
    "- um invariante de laço, prove que seu algoritmo é correto. Certifique-se de que seu invariante de laço satisfaz\n",
    "- as três propriedades necessárias.\n"
   ]
  },
  {
   "cell_type": "code",
   "execution_count": 38,
   "metadata": {},
   "outputs": [
    {
     "name": "stdout",
     "output_type": "stream",
     "text": [
      "Resultado 1: 98\n",
      "Resultado 2: NULL\n",
      "\n"
     ]
    }
   ],
   "source": [
    "A = [ 1, 2, 3, 7, 8, 4, 2, 54, 65,12, 98, 7, 45, 4, 3, 2, 1, 8, 9  ]\n",
    "\n",
    "def process(A, v):\n",
    "    indexFound = \"NULL\"\n",
    "    i = 0\n",
    "    while(i < len(A)):\n",
    "        if ( v == A[i] ):\n",
    "            indexFound = A[i]\n",
    "        i+=1\n",
    "    return indexFound\n",
    "        \n",
    "result1 = process(A, 98)\n",
    "result2 = process(A, 100)\n",
    "\n",
    "print('Resultado 1: {}\\nResultado 2: {}\\n' .format(result1, result2))"
   ]
  },
  {
   "cell_type": "markdown",
   "metadata": {},
   "source": [
    "## 2.1-4 Considere o problema de somar dois inteiros binários de n bits, armazenados em dois arranjos de n elementos A e B. A soma dos dois inteiros deve ser armazenada em forma binária em um arranjo de (n + 1) elementos C. Enuncie o problema formalmente e escreva o pseudocódigo para somar os dois inteiros.\n"
   ]
  },
  {
   "cell_type": "markdown",
   "metadata": {},
   "source": [
    "## Formalidades:\n",
    "## Eentrada: 2 bytes a serem somados ( A e B )\n",
    "## Saída: somatória em binário\n"
   ]
  },
  {
   "cell_type": "code",
   "execution_count": null,
   "metadata": {},
   "outputs": [],
   "source": [
    "def soma( a, b ):\n",
    "    if len(a) < 8:\n",
    "        while(len(a)<8):    \n",
    "            h = '0'\n",
    "            a = h + a\n",
    "    if(len(b) < 8):\n",
    "        while(len(b)<8):    \n",
    "            h = '0'\n",
    "            b = h + b\n",
    "    a = a.split(\",\")\n",
    "    b = b.split(\",\")\n",
    "    c = []\n",
    "    i = 0\n",
    "    carryBit = 0\n",
    "    while(i <= 9):\n",
    "        if( a[i] == '0' and b[i] == '0' ):\n",
    "            if(carryBit == 1):\n",
    "                c.append(1)\n",
    "                carryBit = 0\n",
    "            else:\n",
    "                c.append(0)\n",
    "        elif (a[i] == '0' and b[i] == '1'):\n",
    "            if(carryBit == 1):\n",
    "                c.append(0)\n",
    "                carryBit = 1\n",
    "            else:\n",
    "                c.append(1)\n",
    "        elif (a[i] == '1' and b[i] == '0'):  \n",
    "            if(carryBit == 1):\n",
    "                c.append(0)\n",
    "                carryBit = 1\n",
    "            else:\n",
    "                c.append(1)\n",
    "        elif (a[i] == '1' and b[i] == '1'):  \n",
    "            if(carryBit == 1):\n",
    "                c.append(1)\n",
    "                carryBit = 1\n",
    "            else:\n",
    "                c.append(0)\n",
    "                carryBit = 1\n",
    "    c = c.reverse()\n",
    "    print('Carry: {}, resultado: {}' .format(carryBit, c))\n",
    "soma('00011011', '10010110')"
   ]
  },
  {
   "cell_type": "code",
   "execution_count": 39,
   "metadata": {},
   "outputs": [
    {
     "name": "stdout",
     "output_type": "stream",
     "text": [
      "['teste', 'carro']\n"
     ]
    }
   ],
   "source": [
    "c = ['teste']\n",
    "c.append('carro')\n",
    "print(c)"
   ]
  }
 ],
 "metadata": {
  "interpreter": {
   "hash": "31f2aee4e71d21fbe5cf8b01ff0e069b9275f58929596ceb00d14d90e3e16cd6"
  },
  "kernelspec": {
   "display_name": "Python 3.9.5 64-bit",
   "name": "python3"
  },
  "language_info": {
   "codemirror_mode": {
    "name": "ipython",
    "version": 3
   },
   "file_extension": ".py",
   "mimetype": "text/x-python",
   "name": "python",
   "nbconvert_exporter": "python",
   "pygments_lexer": "ipython3",
   "version": "3.9.5"
  },
  "orig_nbformat": 4
 },
 "nbformat": 4,
 "nbformat_minor": 2
}
