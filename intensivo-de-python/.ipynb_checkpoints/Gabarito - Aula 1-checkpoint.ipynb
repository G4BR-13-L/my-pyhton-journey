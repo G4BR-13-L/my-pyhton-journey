{
 "cells": [
  {
   "cell_type": "markdown",
   "metadata": {},
   "source": [
    "# Automação de Sistemas e Processos com Python\n",
    "\n",
    "### Desafio:\n",
    "\n",
    "Todos os dias, o nosso sistema atualiza as vendas do dia anterior.\n",
    "O seu trabalho diário, como analista, é enviar um e-mail para a diretoria, assim que começar a trabalhar, com o faturamento e a quantidade de produtos vendidos no dia anterior\n",
    "\n",
    "E-mail da diretoria: seugmail+diretoria@gmail.com<br>\n",
    "Local onde o sistema disponibiliza as vendas do dia anterior: https://drive.google.com/drive/folders/1mhXZ3JPAnekXP_4vX7Z_sJj35VWqayaR?usp=sharing\n",
    "\n",
    "Para resolver isso, vamos usar o pyautogui, uma biblioteca de automação de comandos do mouse e do teclado"
   ]
  },
  {
   "cell_type": "code",
   "execution_count": null,
   "metadata": {},
   "outputs": [],
   "source": [
    "import pyautogui\n",
    "import time\n",
    "import pyperclip\n",
    "\n",
    "pyautogui.PAUSE = 1\n",
    "pyautogui.alert(\"Vai começar, aperte OK e não mexa em nada\")\n",
    "\n",
    "# opção 1 - abrir navegador novo e entrar no chrome\n",
    "# pyautogui.press(\"winleft\")\n",
    "# pyautogui.write(\"chrome\")\n",
    "# pyautogui.press(\"enter\")\n",
    "\n",
    "# opção 2 - abrir uma nova aba\n",
    "pyautogui.hotkey('ctrl', 't')\n",
    "\n",
    "# abrir drive\n",
    "# ensinar aqui o write\n",
    "link = \"https://drive.google.com/drive/folders/1mhXZ3JPAnekXP_4vX7Z_sJj35VWqayaR?usp=sharing\"\n",
    "pyperclip.copy(link)\n",
    "pyautogui.hotkey(\"ctrl\", \"v\")\n",
    "pyautogui.press(\"enter\")\n",
    "time.sleep(5)\n",
    "\n",
    "# baixar base de dados atualizada\n",
    "pyautogui.click(935, 694, clicks=2)\n",
    "pyautogui.click(2028, 895)\n",
    "pyautogui.click(3306, 406)\n",
    "pyautogui.click(2880, 1489)\n",
    "time.sleep(10)"
   ]
  },
  {
   "cell_type": "markdown",
   "metadata": {},
   "source": [
    "### Vamos agora ler o arquivo baixado para pegar os indicadores\n",
    "\n",
    "- Faturamento\n",
    "- Quantidade de Produtos"
   ]
  },
  {
   "cell_type": "code",
   "execution_count": null,
   "metadata": {},
   "outputs": [],
   "source": [
    "import pandas as pd\n",
    "\n",
    "df = pd.read_excel(\"C://Users/joaop/Downloads/Vendas - Dez.xlsx\")\n",
    "display(df)\n",
    "faturamento = df['Valor Final'].sum()\n",
    "qtde_produtos = df['Quantidade'].sum()"
   ]
  },
  {
   "cell_type": "markdown",
   "metadata": {},
   "source": [
    "### Vamos agora enviar um e-mail pelo gmail"
   ]
  },
  {
   "cell_type": "code",
   "execution_count": null,
   "metadata": {},
   "outputs": [],
   "source": [
    "import pyperclip\n",
    "\n",
    "# abrir aba gmail\n",
    "pyautogui.hotkey('ctrl', 't')\n",
    "pyautogui.write(\"mail.google.com\")\n",
    "pyautogui.press('enter')\n",
    "time.sleep(5)\n",
    "\n",
    "# clicar em escrever email\n",
    "pyautogui.click(307, 506)\n",
    "\n",
    "# preencher informações do e-mail\n",
    "pyautogui.write('pythonimpressionador+diretoria@gmail.com')\n",
    "pyautogui.press('tab')\n",
    "pyautogui.press('tab')\n",
    "assunto = \"Relatório de Vendas de Ontem\"\n",
    "pyperclip.copy(assunto)\n",
    "pyautogui.hotkey(\"ctrl\", 'v')\n",
    "pyautogui.press(\"tab\")\n",
    "texto = f\"\"\"\n",
    "Prezados, bom dia\n",
    "\n",
    "O faturamento de ontem foi de: R${faturamento:,.2f}\n",
    "A quantidade de produtos foi de: {qtde_produtos:,}\n",
    "\n",
    "Abs\n",
    "LiraPython\"\"\"\n",
    "pyperclip.copy(texto)\n",
    "pyautogui.hotkey(\"ctrl\", 'v')\n",
    "\n",
    "# enviar e-mail\n",
    "pyautogui.hotkey('ctrl', 'enter')\n",
    "\n",
    "# avisar que acabou\n",
    "pyautogui.alert(\"Fim da Automação. Seu computador já voltou a ser seu\")"
   ]
  },
  {
   "cell_type": "markdown",
   "metadata": {},
   "source": [
    "#### Use esse código para descobrir qual a posição de um item que queira clicar\n",
    "\n",
    "- Lembre-se: a posição na sua tela é diferente da posição na minha tela"
   ]
  },
  {
   "cell_type": "code",
   "execution_count": 30,
   "metadata": {},
   "outputs": [
    {
     "name": "stdout",
     "output_type": "stream",
     "text": [
      "Point(x=2028, y=895)\n"
     ]
    },
    {
     "data": {
      "text/plain": [
       "'OK'"
      ]
     },
     "execution_count": 30,
     "metadata": {},
     "output_type": "execute_result"
    }
   ],
   "source": [
    "import pyautogui\n",
    "import time\n",
    "time.sleep(4)\n",
    "print(pyautogui.position())\n",
    "pyautogui.alert(\"Posição Registrada\")"
   ]
  },
  {
   "cell_type": "markdown",
   "metadata": {},
   "source": [
    "#### Caso queira pegar por uma imagem"
   ]
  },
  {
   "cell_type": "code",
   "execution_count": null,
   "metadata": {},
   "outputs": [],
   "source": [
    "time.sleep(5)\n",
    "x, y = pyautogui.locateCenterOnScreen(\"txt.png\")\n",
    "pyautogui.click(x, y)"
   ]
  }
 ],
 "metadata": {
  "kernelspec": {
   "display_name": "Python 3",
   "language": "python",
   "name": "python3"
  },
  "language_info": {
   "codemirror_mode": {
    "name": "ipython",
    "version": 3
   },
   "file_extension": ".py",
   "mimetype": "text/x-python",
   "name": "python",
   "nbconvert_exporter": "python",
   "pygments_lexer": "ipython3",
   "version": "3.8.5"
  }
 },
 "nbformat": 4,
 "nbformat_minor": 4
}
