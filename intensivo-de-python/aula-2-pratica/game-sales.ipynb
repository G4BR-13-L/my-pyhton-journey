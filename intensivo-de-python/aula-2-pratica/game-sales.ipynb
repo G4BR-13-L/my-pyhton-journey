{
 "cells": [
  {
   "cell_type": "code",
   "execution_count": 1,
   "id": "cbe932da-1502-4e9a-b1dc-765b05518819",
   "metadata": {
    "tags": []
   },
   "outputs": [
    {
     "output_type": "display_data",
     "data": {
      "text/plain": "  Carimbo de data/hora Quem preenche este formulário?  \\\n0  30/04/2021 21:37:50                        Gabriel   \n1  30/04/2021 21:38:15                        Gabriel   \n2  30/04/2021 22:14:55                        Gabriel   \n3  30/04/2021 22:15:29                        Gabriel   \n\n  Nome (somente primeiro nome)     Bairro  Pedido [Art.Smash]  \\\n0                     Phillipe  Esplanada                 NaN   \n1                         Dora   Alvorada                 NaN   \n2                       Débora   Alvorada                 NaN   \n3                      Barbara   Alvorada                 NaN   \n\n   Pedido [Art.Cheese]  Pedido [Art.Linguiça]  Pedido [Art.Frango]  \\\n0                  3.0                    NaN                  NaN   \n1                  NaN                    NaN                  NaN   \n2                  2.0                    NaN                  NaN   \n3                  2.0                    NaN                  NaN   \n\n   Pedido [Art.Bacon]  Pedido [Art.Special]  ...  Pedido [Pastel G]  \\\n0                 NaN                   NaN  ...                NaN   \n1                 NaN                   NaN  ...                1.0   \n2                 NaN                   NaN  ...                NaN   \n3                 NaN                   NaN  ...                NaN   \n\n   Pedido [Porçãao de Batata]  Pedido [Milkshake Chocolate]  \\\n0                         1.0                           NaN   \n1                         NaN                           NaN   \n2                         NaN                           NaN   \n3                         NaN                           NaN   \n\n   Pedido [Milkshake Morango]  Pedido [Refri 200ml]  Pedido [Refri Lata]  \\\n0                         NaN                   3.0                  NaN   \n1                         NaN                   NaN                  NaN   \n2                         NaN                   2.0                  NaN   \n3                         NaN                   2.0                  NaN   \n\n   Forma de Pagamento  Valor do pedido ( somente numeros )  \\\n0               PIX 🔑                                   63   \n1          Dinheiro 💵                                   10   \n2           Crédito 💳                                   28   \n3            Débito 💳                                   28   \n\n  Taxa de Entrega (Somente Numeros, Se não tiver taxa, digite zero)  \\\n0                                                  3                  \n1                                                  0                  \n2                                                  0                  \n3                                                  0                  \n\n   Observação  \n0         NaN  \n1         NaN  \n2         NaN  \n3         NaN  \n\n[4 rows x 22 columns]",
      "text/html": "<div>\n<style scoped>\n    .dataframe tbody tr th:only-of-type {\n        vertical-align: middle;\n    }\n\n    .dataframe tbody tr th {\n        vertical-align: top;\n    }\n\n    .dataframe thead th {\n        text-align: right;\n    }\n</style>\n<table border=\"1\" class=\"dataframe\">\n  <thead>\n    <tr style=\"text-align: right;\">\n      <th></th>\n      <th>Carimbo de data/hora</th>\n      <th>Quem preenche este formulário?</th>\n      <th>Nome (somente primeiro nome)</th>\n      <th>Bairro</th>\n      <th>Pedido [Art.Smash]</th>\n      <th>Pedido [Art.Cheese]</th>\n      <th>Pedido [Art.Linguiça]</th>\n      <th>Pedido [Art.Frango]</th>\n      <th>Pedido [Art.Bacon]</th>\n      <th>Pedido [Art.Special]</th>\n      <th>...</th>\n      <th>Pedido [Pastel G]</th>\n      <th>Pedido [Porçãao de Batata]</th>\n      <th>Pedido [Milkshake Chocolate]</th>\n      <th>Pedido [Milkshake Morango]</th>\n      <th>Pedido [Refri 200ml]</th>\n      <th>Pedido [Refri Lata]</th>\n      <th>Forma de Pagamento</th>\n      <th>Valor do pedido ( somente numeros )</th>\n      <th>Taxa de Entrega (Somente Numeros, Se não tiver taxa, digite zero)</th>\n      <th>Observação</th>\n    </tr>\n  </thead>\n  <tbody>\n    <tr>\n      <th>0</th>\n      <td>30/04/2021 21:37:50</td>\n      <td>Gabriel</td>\n      <td>Phillipe</td>\n      <td>Esplanada</td>\n      <td>NaN</td>\n      <td>3.0</td>\n      <td>NaN</td>\n      <td>NaN</td>\n      <td>NaN</td>\n      <td>NaN</td>\n      <td>...</td>\n      <td>NaN</td>\n      <td>1.0</td>\n      <td>NaN</td>\n      <td>NaN</td>\n      <td>3.0</td>\n      <td>NaN</td>\n      <td>PIX 🔑</td>\n      <td>63</td>\n      <td>3</td>\n      <td>NaN</td>\n    </tr>\n    <tr>\n      <th>1</th>\n      <td>30/04/2021 21:38:15</td>\n      <td>Gabriel</td>\n      <td>Dora</td>\n      <td>Alvorada</td>\n      <td>NaN</td>\n      <td>NaN</td>\n      <td>NaN</td>\n      <td>NaN</td>\n      <td>NaN</td>\n      <td>NaN</td>\n      <td>...</td>\n      <td>1.0</td>\n      <td>NaN</td>\n      <td>NaN</td>\n      <td>NaN</td>\n      <td>NaN</td>\n      <td>NaN</td>\n      <td>Dinheiro 💵</td>\n      <td>10</td>\n      <td>0</td>\n      <td>NaN</td>\n    </tr>\n    <tr>\n      <th>2</th>\n      <td>30/04/2021 22:14:55</td>\n      <td>Gabriel</td>\n      <td>Débora</td>\n      <td>Alvorada</td>\n      <td>NaN</td>\n      <td>2.0</td>\n      <td>NaN</td>\n      <td>NaN</td>\n      <td>NaN</td>\n      <td>NaN</td>\n      <td>...</td>\n      <td>NaN</td>\n      <td>NaN</td>\n      <td>NaN</td>\n      <td>NaN</td>\n      <td>2.0</td>\n      <td>NaN</td>\n      <td>Crédito 💳</td>\n      <td>28</td>\n      <td>0</td>\n      <td>NaN</td>\n    </tr>\n    <tr>\n      <th>3</th>\n      <td>30/04/2021 22:15:29</td>\n      <td>Gabriel</td>\n      <td>Barbara</td>\n      <td>Alvorada</td>\n      <td>NaN</td>\n      <td>2.0</td>\n      <td>NaN</td>\n      <td>NaN</td>\n      <td>NaN</td>\n      <td>NaN</td>\n      <td>...</td>\n      <td>NaN</td>\n      <td>NaN</td>\n      <td>NaN</td>\n      <td>NaN</td>\n      <td>2.0</td>\n      <td>NaN</td>\n      <td>Débito 💳</td>\n      <td>28</td>\n      <td>0</td>\n      <td>NaN</td>\n    </tr>\n  </tbody>\n</table>\n<p>4 rows × 22 columns</p>\n</div>"
     },
     "metadata": {}
    }
   ],
   "source": [
    "import pandas as panda\n",
    "\n",
    "dados = panda.read_csv(\"52vendas.csv\")\n",
    "# dados = panda.drop([\"Unnamed: 0\"], axis=1)\n",
    "display(dados)"
   ]
  },
  {
   "cell_type": "markdown",
   "id": "7e206fd2-76ec-4075-aab8-f31b4b5f4ebf",
   "metadata": {},
   "source": [
    "## **Tratamento de datas**"
   ]
  },
  {
   "cell_type": "code",
   "execution_count": 2,
   "id": "ea04aa86-82c6-43ad-b2a1-1e2bb10a7730",
   "metadata": {
    "tags": []
   },
   "outputs": [
    {
     "output_type": "stream",
     "name": "stdout",
     "text": [
      "<class 'pandas.core.frame.DataFrame'>\nRangeIndex: 4 entries, 0 to 3\nData columns (total 22 columns):\n #   Column                                                             Non-Null Count  Dtype         \n---  ------                                                             --------------  -----         \n 0   Data                                                               4 non-null      datetime64[ns]\n 1   Quem preenche este formulário?                                     4 non-null      object        \n 2   Nome (somente primeiro nome)                                       4 non-null      object        \n 3   Bairro                                                             4 non-null      object        \n 4   Pedido [Art.Smash]                                                 0 non-null      float64       \n 5   Pedido [Art.Cheese]                                                3 non-null      float64       \n 6   Pedido [Art.Linguiça]                                              0 non-null      float64       \n 7   Pedido [Art.Frango]                                                0 non-null      float64       \n 8   Pedido [Art.Bacon]                                                 0 non-null      float64       \n 9   Pedido [Art.Special]                                               0 non-null      float64       \n 10  Pedido [Art.Double]                                                0 non-null      float64       \n 11  Pedido [Pastel P]                                                  0 non-null      float64       \n 12  Pedido [Pastel G]                                                  1 non-null      float64       \n 13  Pedido [Porçãao de Batata]                                         1 non-null      float64       \n 14  Pedido [Milkshake Chocolate]                                       0 non-null      float64       \n 15  Pedido [Milkshake Morango]                                         0 non-null      float64       \n 16  Pedido [Refri 200ml]                                               3 non-null      float64       \n 17  Pedido [Refri Lata]                                                0 non-null      float64       \n 18  Forma de Pagamento                                                 4 non-null      object        \n 19  Valor do pedido ( somente numeros )                                4 non-null      int64         \n 20  Taxa de Entrega (Somente Numeros, Se não tiver taxa, digite zero)  4 non-null      int64         \n 21  Observação                                                         0 non-null      float64       \ndtypes: datetime64[ns](1), float64(15), int64(2), object(4)\nmemory usage: 832.0+ bytes\nNone\n"
     ]
    },
    {
     "output_type": "display_data",
     "data": {
      "text/plain": "        Data Quem preenche este formulário? Nome (somente primeiro nome)  \\\n0 2021-04-30                        Gabriel                     Phillipe   \n1 2021-04-30                        Gabriel                         Dora   \n2 2021-04-30                        Gabriel                       Débora   \n3 2021-04-30                        Gabriel                      Barbara   \n\n      Bairro  Pedido [Art.Smash]  Pedido [Art.Cheese]  Pedido [Art.Linguiça]  \\\n0  Esplanada                 NaN                  3.0                    NaN   \n1   Alvorada                 NaN                  NaN                    NaN   \n2   Alvorada                 NaN                  2.0                    NaN   \n3   Alvorada                 NaN                  2.0                    NaN   \n\n   Pedido [Art.Frango]  Pedido [Art.Bacon]  Pedido [Art.Special]  ...  \\\n0                  NaN                 NaN                   NaN  ...   \n1                  NaN                 NaN                   NaN  ...   \n2                  NaN                 NaN                   NaN  ...   \n3                  NaN                 NaN                   NaN  ...   \n\n   Pedido [Pastel G]  Pedido [Porçãao de Batata]  \\\n0                NaN                         1.0   \n1                1.0                         NaN   \n2                NaN                         NaN   \n3                NaN                         NaN   \n\n   Pedido [Milkshake Chocolate]  Pedido [Milkshake Morango]  \\\n0                           NaN                         NaN   \n1                           NaN                         NaN   \n2                           NaN                         NaN   \n3                           NaN                         NaN   \n\n   Pedido [Refri 200ml]  Pedido [Refri Lata]  Forma de Pagamento  \\\n0                   3.0                  NaN               PIX 🔑   \n1                   NaN                  NaN          Dinheiro 💵   \n2                   2.0                  NaN           Crédito 💳   \n3                   2.0                  NaN            Débito 💳   \n\n   Valor do pedido ( somente numeros )  \\\n0                                   63   \n1                                   10   \n2                                   28   \n3                                   28   \n\n  Taxa de Entrega (Somente Numeros, Se não tiver taxa, digite zero)  \\\n0                                                  3                  \n1                                                  0                  \n2                                                  0                  \n3                                                  0                  \n\n   Observação  \n0         NaN  \n1         NaN  \n2         NaN  \n3         NaN  \n\n[4 rows x 22 columns]",
      "text/html": "<div>\n<style scoped>\n    .dataframe tbody tr th:only-of-type {\n        vertical-align: middle;\n    }\n\n    .dataframe tbody tr th {\n        vertical-align: top;\n    }\n\n    .dataframe thead th {\n        text-align: right;\n    }\n</style>\n<table border=\"1\" class=\"dataframe\">\n  <thead>\n    <tr style=\"text-align: right;\">\n      <th></th>\n      <th>Data</th>\n      <th>Quem preenche este formulário?</th>\n      <th>Nome (somente primeiro nome)</th>\n      <th>Bairro</th>\n      <th>Pedido [Art.Smash]</th>\n      <th>Pedido [Art.Cheese]</th>\n      <th>Pedido [Art.Linguiça]</th>\n      <th>Pedido [Art.Frango]</th>\n      <th>Pedido [Art.Bacon]</th>\n      <th>Pedido [Art.Special]</th>\n      <th>...</th>\n      <th>Pedido [Pastel G]</th>\n      <th>Pedido [Porçãao de Batata]</th>\n      <th>Pedido [Milkshake Chocolate]</th>\n      <th>Pedido [Milkshake Morango]</th>\n      <th>Pedido [Refri 200ml]</th>\n      <th>Pedido [Refri Lata]</th>\n      <th>Forma de Pagamento</th>\n      <th>Valor do pedido ( somente numeros )</th>\n      <th>Taxa de Entrega (Somente Numeros, Se não tiver taxa, digite zero)</th>\n      <th>Observação</th>\n    </tr>\n  </thead>\n  <tbody>\n    <tr>\n      <th>0</th>\n      <td>2021-04-30</td>\n      <td>Gabriel</td>\n      <td>Phillipe</td>\n      <td>Esplanada</td>\n      <td>NaN</td>\n      <td>3.0</td>\n      <td>NaN</td>\n      <td>NaN</td>\n      <td>NaN</td>\n      <td>NaN</td>\n      <td>...</td>\n      <td>NaN</td>\n      <td>1.0</td>\n      <td>NaN</td>\n      <td>NaN</td>\n      <td>3.0</td>\n      <td>NaN</td>\n      <td>PIX 🔑</td>\n      <td>63</td>\n      <td>3</td>\n      <td>NaN</td>\n    </tr>\n    <tr>\n      <th>1</th>\n      <td>2021-04-30</td>\n      <td>Gabriel</td>\n      <td>Dora</td>\n      <td>Alvorada</td>\n      <td>NaN</td>\n      <td>NaN</td>\n      <td>NaN</td>\n      <td>NaN</td>\n      <td>NaN</td>\n      <td>NaN</td>\n      <td>...</td>\n      <td>1.0</td>\n      <td>NaN</td>\n      <td>NaN</td>\n      <td>NaN</td>\n      <td>NaN</td>\n      <td>NaN</td>\n      <td>Dinheiro 💵</td>\n      <td>10</td>\n      <td>0</td>\n      <td>NaN</td>\n    </tr>\n    <tr>\n      <th>2</th>\n      <td>2021-04-30</td>\n      <td>Gabriel</td>\n      <td>Débora</td>\n      <td>Alvorada</td>\n      <td>NaN</td>\n      <td>2.0</td>\n      <td>NaN</td>\n      <td>NaN</td>\n      <td>NaN</td>\n      <td>NaN</td>\n      <td>...</td>\n      <td>NaN</td>\n      <td>NaN</td>\n      <td>NaN</td>\n      <td>NaN</td>\n      <td>2.0</td>\n      <td>NaN</td>\n      <td>Crédito 💳</td>\n      <td>28</td>\n      <td>0</td>\n      <td>NaN</td>\n    </tr>\n    <tr>\n      <th>3</th>\n      <td>2021-04-30</td>\n      <td>Gabriel</td>\n      <td>Barbara</td>\n      <td>Alvorada</td>\n      <td>NaN</td>\n      <td>2.0</td>\n      <td>NaN</td>\n      <td>NaN</td>\n      <td>NaN</td>\n      <td>NaN</td>\n      <td>...</td>\n      <td>NaN</td>\n      <td>NaN</td>\n      <td>NaN</td>\n      <td>NaN</td>\n      <td>2.0</td>\n      <td>NaN</td>\n      <td>Débito 💳</td>\n      <td>28</td>\n      <td>0</td>\n      <td>NaN</td>\n    </tr>\n  </tbody>\n</table>\n<p>4 rows × 22 columns</p>\n</div>"
     },
     "metadata": {}
    }
   ],
   "source": [
    "\n",
    "dados = dados.rename(columns={'Carimbo de data/hora' : 'Data'})\n",
    "dados['Data'] = dados['Data'].str.slice_replace(10, 19, '')\n",
    "dados['Data'] = panda.to_datetime(dados['Data'], format=\"%d/%m/%Y\")\n",
    "print(dados.info())\n",
    "display(dados)"
   ]
  },
  {
   "cell_type": "code",
   "execution_count": 3,
   "id": "772851c7-3f6d-4732-bdce-2fe5cc3c2692",
   "metadata": {},
   "outputs": [
    {
     "output_type": "display_data",
     "data": {
      "text/plain": "        Data Quem preenche este formulário? Nome (somente primeiro nome)  \\\n0 2021-04-30                        Gabriel                     Phillipe   \n1 2021-04-30                        Gabriel                         Dora   \n2 2021-04-30                        Gabriel                       Débora   \n3 2021-04-30                        Gabriel                      Barbara   \n\n      Bairro  Pedido [Art.Smash]  Pedido [Art.Cheese]  Pedido [Art.Linguiça]  \\\n0  Esplanada                 NaN                  3.0                    NaN   \n1   Alvorada                 NaN                  NaN                    NaN   \n2   Alvorada                 NaN                  2.0                    NaN   \n3   Alvorada                 NaN                  2.0                    NaN   \n\n   Pedido [Art.Frango]  Pedido [Art.Bacon]  Pedido [Art.Special]  ...  \\\n0                  NaN                 NaN                   NaN  ...   \n1                  NaN                 NaN                   NaN  ...   \n2                  NaN                 NaN                   NaN  ...   \n3                  NaN                 NaN                   NaN  ...   \n\n   Pedido [Pastel G]  Pedido [Porçãao de Batata]  \\\n0                NaN                         1.0   \n1                1.0                         NaN   \n2                NaN                         NaN   \n3                NaN                         NaN   \n\n   Pedido [Milkshake Chocolate]  Pedido [Milkshake Morango]  \\\n0                           NaN                         NaN   \n1                           NaN                         NaN   \n2                           NaN                         NaN   \n3                           NaN                         NaN   \n\n   Pedido [Refri 200ml]  Pedido [Refri Lata]  Forma de Pagamento  \\\n0                   3.0                  NaN               PIX 🔑   \n1                   NaN                  NaN          Dinheiro 💵   \n2                   2.0                  NaN           Crédito 💳   \n3                   2.0                  NaN            Débito 💳   \n\n   Valor do pedido ( somente numeros )  \\\n0                                   63   \n1                                   10   \n2                                   28   \n3                                   28   \n\n  Taxa de Entrega (Somente Numeros, Se não tiver taxa, digite zero)  \\\n0                                                  3                  \n1                                                  0                  \n2                                                  0                  \n3                                                  0                  \n\n   Observação  \n0         NaN  \n1         NaN  \n2         NaN  \n3         NaN  \n\n[4 rows x 22 columns]",
      "text/html": "<div>\n<style scoped>\n    .dataframe tbody tr th:only-of-type {\n        vertical-align: middle;\n    }\n\n    .dataframe tbody tr th {\n        vertical-align: top;\n    }\n\n    .dataframe thead th {\n        text-align: right;\n    }\n</style>\n<table border=\"1\" class=\"dataframe\">\n  <thead>\n    <tr style=\"text-align: right;\">\n      <th></th>\n      <th>Data</th>\n      <th>Quem preenche este formulário?</th>\n      <th>Nome (somente primeiro nome)</th>\n      <th>Bairro</th>\n      <th>Pedido [Art.Smash]</th>\n      <th>Pedido [Art.Cheese]</th>\n      <th>Pedido [Art.Linguiça]</th>\n      <th>Pedido [Art.Frango]</th>\n      <th>Pedido [Art.Bacon]</th>\n      <th>Pedido [Art.Special]</th>\n      <th>...</th>\n      <th>Pedido [Pastel G]</th>\n      <th>Pedido [Porçãao de Batata]</th>\n      <th>Pedido [Milkshake Chocolate]</th>\n      <th>Pedido [Milkshake Morango]</th>\n      <th>Pedido [Refri 200ml]</th>\n      <th>Pedido [Refri Lata]</th>\n      <th>Forma de Pagamento</th>\n      <th>Valor do pedido ( somente numeros )</th>\n      <th>Taxa de Entrega (Somente Numeros, Se não tiver taxa, digite zero)</th>\n      <th>Observação</th>\n    </tr>\n  </thead>\n  <tbody>\n    <tr>\n      <th>0</th>\n      <td>2021-04-30</td>\n      <td>Gabriel</td>\n      <td>Phillipe</td>\n      <td>Esplanada</td>\n      <td>NaN</td>\n      <td>3.0</td>\n      <td>NaN</td>\n      <td>NaN</td>\n      <td>NaN</td>\n      <td>NaN</td>\n      <td>...</td>\n      <td>NaN</td>\n      <td>1.0</td>\n      <td>NaN</td>\n      <td>NaN</td>\n      <td>3.0</td>\n      <td>NaN</td>\n      <td>PIX 🔑</td>\n      <td>63</td>\n      <td>3</td>\n      <td>NaN</td>\n    </tr>\n    <tr>\n      <th>1</th>\n      <td>2021-04-30</td>\n      <td>Gabriel</td>\n      <td>Dora</td>\n      <td>Alvorada</td>\n      <td>NaN</td>\n      <td>NaN</td>\n      <td>NaN</td>\n      <td>NaN</td>\n      <td>NaN</td>\n      <td>NaN</td>\n      <td>...</td>\n      <td>1.0</td>\n      <td>NaN</td>\n      <td>NaN</td>\n      <td>NaN</td>\n      <td>NaN</td>\n      <td>NaN</td>\n      <td>Dinheiro 💵</td>\n      <td>10</td>\n      <td>0</td>\n      <td>NaN</td>\n    </tr>\n    <tr>\n      <th>2</th>\n      <td>2021-04-30</td>\n      <td>Gabriel</td>\n      <td>Débora</td>\n      <td>Alvorada</td>\n      <td>NaN</td>\n      <td>2.0</td>\n      <td>NaN</td>\n      <td>NaN</td>\n      <td>NaN</td>\n      <td>NaN</td>\n      <td>...</td>\n      <td>NaN</td>\n      <td>NaN</td>\n      <td>NaN</td>\n      <td>NaN</td>\n      <td>2.0</td>\n      <td>NaN</td>\n      <td>Crédito 💳</td>\n      <td>28</td>\n      <td>0</td>\n      <td>NaN</td>\n    </tr>\n    <tr>\n      <th>3</th>\n      <td>2021-04-30</td>\n      <td>Gabriel</td>\n      <td>Barbara</td>\n      <td>Alvorada</td>\n      <td>NaN</td>\n      <td>2.0</td>\n      <td>NaN</td>\n      <td>NaN</td>\n      <td>NaN</td>\n      <td>NaN</td>\n      <td>...</td>\n      <td>NaN</td>\n      <td>NaN</td>\n      <td>NaN</td>\n      <td>NaN</td>\n      <td>2.0</td>\n      <td>NaN</td>\n      <td>Débito 💳</td>\n      <td>28</td>\n      <td>0</td>\n      <td>NaN</td>\n    </tr>\n  </tbody>\n</table>\n<p>4 rows × 22 columns</p>\n</div>"
     },
     "metadata": {}
    },
    {
     "output_type": "display_data",
     "data": {
      "text/plain": "        Data Quem preenche este formulário? Nome (somente primeiro nome)  \\\n0 2021-04-30                        Gabriel                     Phillipe   \n1 2021-04-30                        Gabriel                         Dora   \n2 2021-04-30                        Gabriel                       Débora   \n3 2021-04-30                        Gabriel                      Barbara   \n\n      Bairro  Art.Smash  Art.Cheese  Art.Linguiça  Art.Frango  Art.Bacon  \\\n0  Esplanada        NaN         3.0           NaN         NaN        NaN   \n1   Alvorada        NaN         NaN           NaN         NaN        NaN   \n2   Alvorada        NaN         2.0           NaN         NaN        NaN   \n3   Alvorada        NaN         2.0           NaN         NaN        NaN   \n\n   Art.Special  ...  Pastel G  Porçãao de Batata  Milkshake Chocolate  \\\n0          NaN  ...       NaN                1.0                  NaN   \n1          NaN  ...       1.0                NaN                  NaN   \n2          NaN  ...       NaN                NaN                  NaN   \n3          NaN  ...       NaN                NaN                  NaN   \n\n   Milkshake Morango  Refri 200ml  Refri Lata  Forma de Pagamento  \\\n0                NaN          3.0         NaN               PIX 🔑   \n1                NaN          NaN         NaN          Dinheiro 💵   \n2                NaN          2.0         NaN           Crédito 💳   \n3                NaN          2.0         NaN            Débito 💳   \n\n   Valor do pedido ( somente numeros )  \\\n0                                   63   \n1                                   10   \n2                                   28   \n3                                   28   \n\n  Taxa de Entrega (Somente Numeros, Se não tiver taxa, digite zero)  \\\n0                                                  3                  \n1                                                  0                  \n2                                                  0                  \n3                                                  0                  \n\n   Observação  \n0         NaN  \n1         NaN  \n2         NaN  \n3         NaN  \n\n[4 rows x 22 columns]",
      "text/html": "<div>\n<style scoped>\n    .dataframe tbody tr th:only-of-type {\n        vertical-align: middle;\n    }\n\n    .dataframe tbody tr th {\n        vertical-align: top;\n    }\n\n    .dataframe thead th {\n        text-align: right;\n    }\n</style>\n<table border=\"1\" class=\"dataframe\">\n  <thead>\n    <tr style=\"text-align: right;\">\n      <th></th>\n      <th>Data</th>\n      <th>Quem preenche este formulário?</th>\n      <th>Nome (somente primeiro nome)</th>\n      <th>Bairro</th>\n      <th>Art.Smash</th>\n      <th>Art.Cheese</th>\n      <th>Art.Linguiça</th>\n      <th>Art.Frango</th>\n      <th>Art.Bacon</th>\n      <th>Art.Special</th>\n      <th>...</th>\n      <th>Pastel G</th>\n      <th>Porçãao de Batata</th>\n      <th>Milkshake Chocolate</th>\n      <th>Milkshake Morango</th>\n      <th>Refri 200ml</th>\n      <th>Refri Lata</th>\n      <th>Forma de Pagamento</th>\n      <th>Valor do pedido ( somente numeros )</th>\n      <th>Taxa de Entrega (Somente Numeros, Se não tiver taxa, digite zero)</th>\n      <th>Observação</th>\n    </tr>\n  </thead>\n  <tbody>\n    <tr>\n      <th>0</th>\n      <td>2021-04-30</td>\n      <td>Gabriel</td>\n      <td>Phillipe</td>\n      <td>Esplanada</td>\n      <td>NaN</td>\n      <td>3.0</td>\n      <td>NaN</td>\n      <td>NaN</td>\n      <td>NaN</td>\n      <td>NaN</td>\n      <td>...</td>\n      <td>NaN</td>\n      <td>1.0</td>\n      <td>NaN</td>\n      <td>NaN</td>\n      <td>3.0</td>\n      <td>NaN</td>\n      <td>PIX 🔑</td>\n      <td>63</td>\n      <td>3</td>\n      <td>NaN</td>\n    </tr>\n    <tr>\n      <th>1</th>\n      <td>2021-04-30</td>\n      <td>Gabriel</td>\n      <td>Dora</td>\n      <td>Alvorada</td>\n      <td>NaN</td>\n      <td>NaN</td>\n      <td>NaN</td>\n      <td>NaN</td>\n      <td>NaN</td>\n      <td>NaN</td>\n      <td>...</td>\n      <td>1.0</td>\n      <td>NaN</td>\n      <td>NaN</td>\n      <td>NaN</td>\n      <td>NaN</td>\n      <td>NaN</td>\n      <td>Dinheiro 💵</td>\n      <td>10</td>\n      <td>0</td>\n      <td>NaN</td>\n    </tr>\n    <tr>\n      <th>2</th>\n      <td>2021-04-30</td>\n      <td>Gabriel</td>\n      <td>Débora</td>\n      <td>Alvorada</td>\n      <td>NaN</td>\n      <td>2.0</td>\n      <td>NaN</td>\n      <td>NaN</td>\n      <td>NaN</td>\n      <td>NaN</td>\n      <td>...</td>\n      <td>NaN</td>\n      <td>NaN</td>\n      <td>NaN</td>\n      <td>NaN</td>\n      <td>2.0</td>\n      <td>NaN</td>\n      <td>Crédito 💳</td>\n      <td>28</td>\n      <td>0</td>\n      <td>NaN</td>\n    </tr>\n    <tr>\n      <th>3</th>\n      <td>2021-04-30</td>\n      <td>Gabriel</td>\n      <td>Barbara</td>\n      <td>Alvorada</td>\n      <td>NaN</td>\n      <td>2.0</td>\n      <td>NaN</td>\n      <td>NaN</td>\n      <td>NaN</td>\n      <td>NaN</td>\n      <td>...</td>\n      <td>NaN</td>\n      <td>NaN</td>\n      <td>NaN</td>\n      <td>NaN</td>\n      <td>2.0</td>\n      <td>NaN</td>\n      <td>Débito 💳</td>\n      <td>28</td>\n      <td>0</td>\n      <td>NaN</td>\n    </tr>\n  </tbody>\n</table>\n<p>4 rows × 22 columns</p>\n</div>"
     },
     "metadata": {}
    }
   ],
   "source": [
    "\n",
    "display(dados)\n",
    "dados = dados.rename(columns={\n",
    "    'Pedido [Art.Smash]' : 'Art.Smash',\n",
    "    'Pedido [Art.Cheese]' : 'Art.Cheese',\n",
    "    'Pedido [Art.Linguiça]' : 'Art.Linguiça',\n",
    "    'Pedido [Art.Frango]' : 'Art.Frango',\n",
    "    'Pedido [Art.Bacon]' : 'Art.Bacon',\n",
    "    'Pedido [Art.Special]' : 'Art.Special',\n",
    "    'Pedido [Art.Double]' : 'Art.Double',\n",
    "    'Pedido [Pastel P]' : 'Pastel P',\n",
    "    'Pedido [Pastel G]' : 'Pastel G',\n",
    "    'Pedido [Porçãao de Batata]' : 'Porçãao de Batata',\n",
    "    'Pedido [Milkshake Chocolate]' : 'Milkshake Chocolate',\n",
    "    'Pedido [Milkshake Morango]' : 'Milkshake Morango',\n",
    "    'Pedido [Refri 200ml]' : 'Refri 200ml',\n",
    "    'Pedido [Refri Lata]' : 'Refri Lata',\n",
    "})\n",
    "display(dados)"
   ]
  },
  {
   "cell_type": "code",
   "execution_count": 5,
   "id": "d6cf219d-5be7-43ed-9d0c-a8760916870c",
   "metadata": {},
   "outputs": [
    {
     "output_type": "display_data",
     "data": {
      "text/plain": "Débito 💳      1\nCrédito 💳     1\nDinheiro 💵    1\nPIX 🔑         1\nName: Forma de Pagamento, dtype: int64"
     },
     "metadata": {}
    },
    {
     "output_type": "display_data",
     "data": {
      "text/plain": "Débito 💳      25.0%\nCrédito 💳     25.0%\nDinheiro 💵    25.0%\nPIX 🔑         25.0%\nName: Forma de Pagamento, dtype: object"
     },
     "metadata": {}
    }
   ],
   "source": [
    "display(dados['Forma de Pagamento'].value_counts())\n",
    "display(dados['Forma de Pagamento'].value_counts(normalize=True).map('{:.1%}'.format))"
   ]
  },
  {
   "cell_type": "code",
   "execution_count": null,
   "id": "0498dfcb-ec9e-4a45-8988-43f1963c53ee",
   "metadata": {},
   "outputs": [],
   "source": []
  }
 ],
 "metadata": {
  "kernelspec": {
   "display_name": "Python 3",
   "language": "python",
   "name": "python3"
  },
  "language_info": {
   "codemirror_mode": {
    "name": "ipython",
    "version": 3
   },
   "file_extension": ".py",
   "mimetype": "text/x-python",
   "name": "python",
   "nbconvert_exporter": "python",
   "pygments_lexer": "ipython3",
   "version": "3.8.5"
  }
 },
 "nbformat": 4,
 "nbformat_minor": 5
}